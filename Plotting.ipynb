{
 "cells": [
  {
   "attachments": {},
   "cell_type": "markdown",
   "metadata": {},
   "source": [
    "Introduction:\n",
    "In this project, I am visualizing and analyzing data from my robot's IMU (Inertial Measurement Unit) sensor. Robots are used in a variety of scenarios, and IMU data is really important. This data includes data on acceleration values, velocities, and positions, and orientation (roll, pitch, yaw) data. My data generated in real-time by my robot's Adafruit 9-DOF Fusion Breakout IMU, and logged in a CSV file. My goals is to take the imu_data.csv file produced my robot, and break it down, and visualize it. This would allow me to visualize what the robot was doing after a run, and analyze it's behavior based on the data.\n",
    "\n",
    "Data Sources: The csv data, imu_data.csv is produced real-time by the robot I built and programmed for the Northeastern University Robotics Club."
   ]
  },
  {
   "cell_type": "code",
   "execution_count": null,
   "metadata": {},
   "outputs": [],
   "source": [
    "#import imu data as a csv\n",
    "#read a pandas dataframe from the csv\n",
    "#should be accel x,y,z, and roll pitch yaw data\n",
    "#linear interpolate (lerp) positions between values\n",
    "\n",
    "#import libraries\n",
    "import pandas as pd\n",
    "import matplotlib.pyplot as plt\n",
    "import numpy as np\n",
    "import csv\n",
    "import seaborn as sns\n",
    "from sklearn.linear_model import LinearRegression\n",
    "\n",
    "#get csv data from robot, and put it into a pandas dataframe\n",
    "df = pd.read_csv(\"./imu_data.csv\", sep =',', delimiter=',', header=['Time','AccelX', 'AccelY','AccelZ', 'VelX', 'VelY', 'VelZ', 'PosX', 'PosY', 'PosZ', 'Roll', 'Pitch', 'Yaw'])\n",
    "print(df.columns)\n",
    "#Drop the accelZ and velocityZ data because won't be used in my analysis\n",
    "#df.drop(['AccelZ','VelZ'], axis=1, inplace=True)\n",
    "\n",
    "#plot the acceleration data in a 2D plot:\n",
    "fig, ax = plt.figure()\n",
    "plt.plot(df[\"Time\"], df[\"AccelX\"], c='red', label='X')\n",
    "plt.plot(df[\"Time\"], df[\"AccelY\"],c='green', label='Y')\n",
    "plt.plot(df[\"Time\"], df[\"AccelZ\"],c='blue', label='Z')\n",
    "\n",
    "plt.xlabel('Time (s)')\n",
    "plt.ylabel('Acceleration (m/s^2)')\n",
    "plt.title('Robot\\'s Acceleration Data over Time')\n",
    "plt.grid()\n",
    "plt.legend()\n",
    "plt.show()\n",
    "\n",
    "\n",
    "\n",
    "\n",
    "\n",
    "    "
   ]
  },
  {
   "cell_type": "code",
   "execution_count": null,
   "metadata": {},
   "outputs": [],
   "source": []
  }
 ],
 "metadata": {
  "language_info": {
   "name": "python"
  },
  "orig_nbformat": 4
 },
 "nbformat": 4,
 "nbformat_minor": 2
}
